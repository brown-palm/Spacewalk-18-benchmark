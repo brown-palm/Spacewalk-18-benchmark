{
 "cells": [
  {
   "cell_type": "code",
   "execution_count": 1,
   "metadata": {},
   "outputs": [],
   "source": [
    "import json\n",
    "import os\n",
    "import pandas as pd\n",
    "\n",
    "transcript_dir = '../../data/transcripts'\n",
    "annotations = json.load(open('../../data/annotation.json'))\n",
    "video_lengths = {date: x[-1]['video_end'] for date, x in annotations.items()}"
   ]
  },
  {
   "cell_type": "code",
   "execution_count": 8,
   "metadata": {},
   "outputs": [],
   "source": [
    "\n",
    "def get_transcript(idx, window_radius, v_length, transcripts):\n",
    "    frame = {}\n",
    "    start = idx / 30 - window_radius\n",
    "    end = idx / 30 + window_radius\n",
    "    start = max(start, 0.0)\n",
    "    end = min(end, v_length)\n",
    "    transcript = transcripts[(transcripts['Global start'] < end) * (transcripts['Global end'] > start)]\n",
    "    transcript = ' '.join(transcript['Sentence'].tolist())\n",
    "    frame['video_start'] = start\n",
    "    frame['video_end'] = end\n",
    "    frame['transcript'] = transcript\n",
    "    return frame\n",
    "\n",
    "def construct(split, window_length):\n",
    "    '''\n",
    "        Construct the start and end times and corresponding transcripts for split `split` with w = `window_length` seconds\n",
    "    '''\n",
    "    window_radius = window_length / 2\n",
    "    frames_fn = f'{split}.json'\n",
    "    frames = json.load(open(frames_fn))\n",
    "\n",
    "    data = {}\n",
    "    for date in frames:\n",
    "        print('Processing:', date)\n",
    "        transcripts = pd.read_csv(f'{transcript_dir}/{date}.csv', encoding='cp1252')\n",
    "        data[date] = []\n",
    "        v_length = video_lengths[date]\n",
    "\n",
    "        for i, frame in enumerate(frames[date]):\n",
    "            q = {'query_frame_index': frame['query_frame_index']}\n",
    "            q.update(get_transcript(frame['query_frame_index'], window_radius, v_length, transcripts))\n",
    "            c1 = {'frame_index': frame['candidate_frame_indices'][0]}\n",
    "            c1.update(get_transcript(frame['candidate_frame_indices'][0], window_radius, v_length, transcripts))\n",
    "            c2 = {'frame_index': frame['candidate_frame_indices'][1]}\n",
    "            c2.update(get_transcript(frame['candidate_frame_indices'][1], window_radius, v_length, transcripts))\n",
    "            q.update({\n",
    "                'candidates': [c1, c2],\n",
    "                'label': frame['label'],\n",
    "                'id': frame['id']\n",
    "            })\n",
    "            data[date].append(q)\n",
    "    os.makedirs('./context', exist_ok=True)\n",
    "    with open(f'context/RT_w{window_length}s_{split}.json', 'w') as f:\n",
    "        f.write(json.dumps(data, indent = 4))"
   ]
  },
  {
   "cell_type": "code",
   "execution_count": 9,
   "metadata": {},
   "outputs": [
    {
     "name": "stdout",
     "output_type": "stream",
     "text": [
      "Processing: 03152022\n"
     ]
    },
    {
     "name": "stdout",
     "output_type": "stream",
     "text": [
      "Processing: 11152022\n"
     ]
    }
   ],
   "source": [
    "# Construct context windows for the validation set with w = 20s\n",
    "construct(split = 'val', window_length = 20)"
   ]
  }
 ],
 "metadata": {
  "kernelspec": {
   "display_name": "base",
   "language": "python",
   "name": "python3"
  },
  "language_info": {
   "codemirror_mode": {
    "name": "ipython",
    "version": 3
   },
   "file_extension": ".py",
   "mimetype": "text/x-python",
   "name": "python",
   "nbconvert_exporter": "python",
   "pygments_lexer": "ipython3",
   "version": "3.11.5"
  }
 },
 "nbformat": 4,
 "nbformat_minor": 2
}
