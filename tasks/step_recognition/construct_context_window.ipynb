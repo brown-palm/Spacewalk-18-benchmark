{
 "cells": [
  {
   "cell_type": "code",
   "execution_count": 2,
   "metadata": {},
   "outputs": [],
   "source": [
    "import json\n",
    "import os\n",
    "import pandas as pd\n",
    "\n",
    "transcript_dir = '../../data/transcripts'\n",
    "annotations = json.load(open('../../data/annotation.json'))\n",
    "video_lengths = {date: x[-1]['video_end'] for date, x in annotations.items()}"
   ]
  },
  {
   "cell_type": "code",
   "execution_count": 3,
   "metadata": {},
   "outputs": [],
   "source": [
    "def construct(split, window_length):\n",
    "    '''\n",
    "        Construct the start and end times and corresponding transcripts for split `split` with w = `window_length` seconds\n",
    "    '''\n",
    "    window_radius = window_length / 2\n",
    "    frames_fn = f'{split}.json'\n",
    "    frames = json.load(open(frames_fn))\n",
    "\n",
    "    data = {}\n",
    "    for date in frames:\n",
    "        print('Processing:', date)\n",
    "        transcripts = pd.read_csv(f'{transcript_dir}/{date}.csv', encoding='cp1252')\n",
    "        data[date] = []\n",
    "        v_length = video_lengths[date]\n",
    "\n",
    "        for frame in frames[date]:\n",
    "            start = frame['frame_index'] / 30 - window_radius\n",
    "            end = frame['frame_index'] / 30 + window_radius\n",
    "            start = max(start, 0.0)\n",
    "            end = min(end, v_length)\n",
    "            assert start < end\n",
    "            transcript = transcripts[(transcripts['Global start'] < end) * (transcripts['Global end'] > start)]\n",
    "            transcript = ' '.join(transcript['Sentence'].tolist())\n",
    "            frame['video_start'] = start\n",
    "            frame['video_end'] = end\n",
    "            frame['transcript'] = transcript\n",
    "            data[date].append(frame)\n",
    "            \n",
    "    os.makedirs('./context', exist_ok=True)\n",
    "    with open(f'context/SR_w{window_length}s_{split}.json', 'w') as f:\n",
    "        f.write(json.dumps(data, indent = 4))"
   ]
  },
  {
   "cell_type": "code",
   "execution_count": 4,
   "metadata": {},
   "outputs": [
    {
     "name": "stdout",
     "output_type": "stream",
     "text": [
      "Processing: 03152022\n",
      "Processing: 11152022\n"
     ]
    }
   ],
   "source": [
    "# Construct context windows for the validation set with w = 60s\n",
    "construct(split = 'val', window_length = 60)"
   ]
  }
 ],
 "metadata": {
  "kernelspec": {
   "display_name": "base",
   "language": "python",
   "name": "python3"
  },
  "language_info": {
   "codemirror_mode": {
    "name": "ipython",
    "version": 3
   },
   "file_extension": ".py",
   "mimetype": "text/x-python",
   "name": "python",
   "nbconvert_exporter": "python",
   "pygments_lexer": "ipython3",
   "version": "3.11.5"
  }
 },
 "nbformat": 4,
 "nbformat_minor": 2
}
