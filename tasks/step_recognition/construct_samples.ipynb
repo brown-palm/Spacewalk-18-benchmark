{
 "cells": [
  {
   "cell_type": "code",
   "execution_count": 7,
   "metadata": {},
   "outputs": [],
   "source": [
    "import json\n",
    "\n",
    "FPS = 29.97\n",
    "\n",
    "segments = json.load(open('../../data/annotation.json'))\n",
    "animations = json.load(open('../../data/steps.json'))\n",
    "splits = json.load(open('../split.json'))\n",
    "train_set = splits['train']\n",
    "val_set = splits['val']\n",
    "test_set = splits['test']"
   ]
  },
  {
   "cell_type": "code",
   "execution_count": 6,
   "metadata": {},
   "outputs": [],
   "source": [
    "def construct_(segments, n_label, n_samples):\n",
    "    n_samples_tmp = n_samples\n",
    "    data = []\n",
    "\n",
    "    # Group frame indices by label\n",
    "    candidates = [[] for i in range(n_label)]\n",
    "    for segment in segments:\n",
    "        l = segment['label']\n",
    "        if l > -1:\n",
    "            candidates[l].extend(list(range(segment['frame_start'], segment['frame_end'])))\n",
    "\n",
    "    # Calculate the number of samples for each label\n",
    "    n_samples_ = [0] * n_label\n",
    "    while n_samples > 0:\n",
    "        for i in range(n_label):\n",
    "            if n_samples > 0 and n_samples_[i] < len(candidates[i]):\n",
    "                n_samples_[i] += 1\n",
    "                n_samples -= 1\n",
    "\n",
    "    # Uniformly draw samples from each category\n",
    "    for i in range(n_label):\n",
    "        N = len(candidates[i])\n",
    "        M = n_samples_[i]\n",
    "        for j in range(1, M + 1):\n",
    "            idx = int((N - 1) * j / (M + 1))\n",
    "            data.append({\n",
    "                'timestamp': candidates[i][idx] / FPS,\n",
    "                'frame_index': candidates[i][idx],\n",
    "                'label': i\n",
    "            })\n",
    "    data.sort(key=lambda x: x['frame_index'])\n",
    "    for i in range(len(data)):\n",
    "        data[i]['id'] = i\n",
    "    assert len(data) == n_samples_tmp\n",
    "    return data\n",
    "\n",
    "def construct(segments, dates, n_samples):\n",
    "    '''\n",
    "        Construct `n_samples` samples from each video listed in `dates`\n",
    "    '''\n",
    "    data = {}\n",
    "    for date in dates:\n",
    "        print('Processing:', date)\n",
    "        data[date] = construct_(segments[date], len(animations[date]), n_samples)\n",
    "    return data"
   ]
  },
  {
   "cell_type": "code",
   "execution_count": 8,
   "metadata": {},
   "outputs": [
    {
     "name": "stdout",
     "output_type": "stream",
     "text": [
      "Processing: 01152020\n",
      "Processing: 01252020\n",
      "Processing: 01272021\n",
      "Processing: 02012021\n",
      "Processing: 03232022\n",
      "Processing: 06162021\n",
      "Processing: 10062019\n",
      "Processing: 11222019\n",
      "Processing: 12022021\n",
      "Processing: 12032022\n"
     ]
    }
   ],
   "source": [
    "# Construct training set\n",
    "data = construct(segments, train_set, 2000)\n",
    "with open('train.json', 'w') as f:\n",
    "    f.write(json.dumps(data, indent=4))\n",
    "    f.close()"
   ]
  },
  {
   "cell_type": "code",
   "execution_count": 9,
   "metadata": {},
   "outputs": [
    {
     "name": "stdout",
     "output_type": "stream",
     "text": [
      "Processing: 03152022\n",
      "Processing: 11152022\n"
     ]
    }
   ],
   "source": [
    "# Construct validation set\n",
    "data = construct(segments, val_set, 2000)\n",
    "with open('val.json', 'w') as f:\n",
    "    f.write(json.dumps(data, indent=4))\n",
    "    f.close()"
   ]
  },
  {
   "cell_type": "code",
   "execution_count": 10,
   "metadata": {},
   "outputs": [
    {
     "name": "stdout",
     "output_type": "stream",
     "text": [
      "Processing: 02282021\n",
      "Processing: 06092023\n",
      "Processing: 06262020\n",
      "Processing: 09122021\n",
      "Processing: 11152019\n",
      "Processing: 12022019\n"
     ]
    }
   ],
   "source": [
    "# Construct test set\n",
    "data = construct(segments, test_set, 2000)\n",
    "with open('test.json', 'w') as f:\n",
    "    f.write(json.dumps(data, indent=4))\n",
    "    f.close()"
   ]
  }
 ],
 "metadata": {
  "kernelspec": {
   "display_name": "base",
   "language": "python",
   "name": "python3"
  },
  "language_info": {
   "codemirror_mode": {
    "name": "ipython",
    "version": 3
   },
   "file_extension": ".py",
   "mimetype": "text/x-python",
   "name": "python",
   "nbconvert_exporter": "python",
   "pygments_lexer": "ipython3",
   "version": "3.1.-1"
  }
 },
 "nbformat": 4,
 "nbformat_minor": 2
}
